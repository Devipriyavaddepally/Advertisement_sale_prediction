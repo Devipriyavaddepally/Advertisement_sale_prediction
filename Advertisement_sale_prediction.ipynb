{
  "nbformat": 4,
  "nbformat_minor": 0,
  "metadata": {
    "colab": {
      "provenance": []
    },
    "kernelspec": {
      "name": "python3",
      "display_name": "Python 3"
    },
    "language_info": {
      "name": "python"
    }
  },
  "cells": [
    {
      "cell_type": "markdown",
      "source": [
        "####Importing Libraries"
      ],
      "metadata": {
        "id": "tsWu-HMcLLwI"
      }
    },
    {
      "cell_type": "code",
      "source": [
        "import pandas as pd"
      ],
      "metadata": {
        "id": "IHcb125EZGD4"
      },
      "execution_count": 1,
      "outputs": []
    },
    {
      "cell_type": "code",
      "source": [
        "from google.colab import files\n",
        "uploaded = files.upload()"
      ],
      "metadata": {
        "colab": {
          "base_uri": "https://localhost:8080/",
          "height": 73
        },
        "id": "fx-LnU9FLRA-",
        "outputId": "a7bbbb7f-75e6-4058-80ea-0f415a1f8581"
      },
      "execution_count": 2,
      "outputs": [
        {
          "output_type": "display_data",
          "data": {
            "text/plain": [
              "<IPython.core.display.HTML object>"
            ],
            "text/html": [
              "\n",
              "     <input type=\"file\" id=\"files-39a9c32c-1577-4e98-a498-00393051e324\" name=\"files[]\" multiple disabled\n",
              "        style=\"border:none\" />\n",
              "     <output id=\"result-39a9c32c-1577-4e98-a498-00393051e324\">\n",
              "      Upload widget is only available when the cell has been executed in the\n",
              "      current browser session. Please rerun this cell to enable.\n",
              "      </output>\n",
              "      <script>// Copyright 2017 Google LLC\n",
              "//\n",
              "// Licensed under the Apache License, Version 2.0 (the \"License\");\n",
              "// you may not use this file except in compliance with the License.\n",
              "// You may obtain a copy of the License at\n",
              "//\n",
              "//      http://www.apache.org/licenses/LICENSE-2.0\n",
              "//\n",
              "// Unless required by applicable law or agreed to in writing, software\n",
              "// distributed under the License is distributed on an \"AS IS\" BASIS,\n",
              "// WITHOUT WARRANTIES OR CONDITIONS OF ANY KIND, either express or implied.\n",
              "// See the License for the specific language governing permissions and\n",
              "// limitations under the License.\n",
              "\n",
              "/**\n",
              " * @fileoverview Helpers for google.colab Python module.\n",
              " */\n",
              "(function(scope) {\n",
              "function span(text, styleAttributes = {}) {\n",
              "  const element = document.createElement('span');\n",
              "  element.textContent = text;\n",
              "  for (const key of Object.keys(styleAttributes)) {\n",
              "    element.style[key] = styleAttributes[key];\n",
              "  }\n",
              "  return element;\n",
              "}\n",
              "\n",
              "// Max number of bytes which will be uploaded at a time.\n",
              "const MAX_PAYLOAD_SIZE = 100 * 1024;\n",
              "\n",
              "function _uploadFiles(inputId, outputId) {\n",
              "  const steps = uploadFilesStep(inputId, outputId);\n",
              "  const outputElement = document.getElementById(outputId);\n",
              "  // Cache steps on the outputElement to make it available for the next call\n",
              "  // to uploadFilesContinue from Python.\n",
              "  outputElement.steps = steps;\n",
              "\n",
              "  return _uploadFilesContinue(outputId);\n",
              "}\n",
              "\n",
              "// This is roughly an async generator (not supported in the browser yet),\n",
              "// where there are multiple asynchronous steps and the Python side is going\n",
              "// to poll for completion of each step.\n",
              "// This uses a Promise to block the python side on completion of each step,\n",
              "// then passes the result of the previous step as the input to the next step.\n",
              "function _uploadFilesContinue(outputId) {\n",
              "  const outputElement = document.getElementById(outputId);\n",
              "  const steps = outputElement.steps;\n",
              "\n",
              "  const next = steps.next(outputElement.lastPromiseValue);\n",
              "  return Promise.resolve(next.value.promise).then((value) => {\n",
              "    // Cache the last promise value to make it available to the next\n",
              "    // step of the generator.\n",
              "    outputElement.lastPromiseValue = value;\n",
              "    return next.value.response;\n",
              "  });\n",
              "}\n",
              "\n",
              "/**\n",
              " * Generator function which is called between each async step of the upload\n",
              " * process.\n",
              " * @param {string} inputId Element ID of the input file picker element.\n",
              " * @param {string} outputId Element ID of the output display.\n",
              " * @return {!Iterable<!Object>} Iterable of next steps.\n",
              " */\n",
              "function* uploadFilesStep(inputId, outputId) {\n",
              "  const inputElement = document.getElementById(inputId);\n",
              "  inputElement.disabled = false;\n",
              "\n",
              "  const outputElement = document.getElementById(outputId);\n",
              "  outputElement.innerHTML = '';\n",
              "\n",
              "  const pickedPromise = new Promise((resolve) => {\n",
              "    inputElement.addEventListener('change', (e) => {\n",
              "      resolve(e.target.files);\n",
              "    });\n",
              "  });\n",
              "\n",
              "  const cancel = document.createElement('button');\n",
              "  inputElement.parentElement.appendChild(cancel);\n",
              "  cancel.textContent = 'Cancel upload';\n",
              "  const cancelPromise = new Promise((resolve) => {\n",
              "    cancel.onclick = () => {\n",
              "      resolve(null);\n",
              "    };\n",
              "  });\n",
              "\n",
              "  // Wait for the user to pick the files.\n",
              "  const files = yield {\n",
              "    promise: Promise.race([pickedPromise, cancelPromise]),\n",
              "    response: {\n",
              "      action: 'starting',\n",
              "    }\n",
              "  };\n",
              "\n",
              "  cancel.remove();\n",
              "\n",
              "  // Disable the input element since further picks are not allowed.\n",
              "  inputElement.disabled = true;\n",
              "\n",
              "  if (!files) {\n",
              "    return {\n",
              "      response: {\n",
              "        action: 'complete',\n",
              "      }\n",
              "    };\n",
              "  }\n",
              "\n",
              "  for (const file of files) {\n",
              "    const li = document.createElement('li');\n",
              "    li.append(span(file.name, {fontWeight: 'bold'}));\n",
              "    li.append(span(\n",
              "        `(${file.type || 'n/a'}) - ${file.size} bytes, ` +\n",
              "        `last modified: ${\n",
              "            file.lastModifiedDate ? file.lastModifiedDate.toLocaleDateString() :\n",
              "                                    'n/a'} - `));\n",
              "    const percent = span('0% done');\n",
              "    li.appendChild(percent);\n",
              "\n",
              "    outputElement.appendChild(li);\n",
              "\n",
              "    const fileDataPromise = new Promise((resolve) => {\n",
              "      const reader = new FileReader();\n",
              "      reader.onload = (e) => {\n",
              "        resolve(e.target.result);\n",
              "      };\n",
              "      reader.readAsArrayBuffer(file);\n",
              "    });\n",
              "    // Wait for the data to be ready.\n",
              "    let fileData = yield {\n",
              "      promise: fileDataPromise,\n",
              "      response: {\n",
              "        action: 'continue',\n",
              "      }\n",
              "    };\n",
              "\n",
              "    // Use a chunked sending to avoid message size limits. See b/62115660.\n",
              "    let position = 0;\n",
              "    do {\n",
              "      const length = Math.min(fileData.byteLength - position, MAX_PAYLOAD_SIZE);\n",
              "      const chunk = new Uint8Array(fileData, position, length);\n",
              "      position += length;\n",
              "\n",
              "      const base64 = btoa(String.fromCharCode.apply(null, chunk));\n",
              "      yield {\n",
              "        response: {\n",
              "          action: 'append',\n",
              "          file: file.name,\n",
              "          data: base64,\n",
              "        },\n",
              "      };\n",
              "\n",
              "      let percentDone = fileData.byteLength === 0 ?\n",
              "          100 :\n",
              "          Math.round((position / fileData.byteLength) * 100);\n",
              "      percent.textContent = `${percentDone}% done`;\n",
              "\n",
              "    } while (position < fileData.byteLength);\n",
              "  }\n",
              "\n",
              "  // All done.\n",
              "  yield {\n",
              "    response: {\n",
              "      action: 'complete',\n",
              "    }\n",
              "  };\n",
              "}\n",
              "\n",
              "scope.google = scope.google || {};\n",
              "scope.google.colab = scope.google.colab || {};\n",
              "scope.google.colab._files = {\n",
              "  _uploadFiles,\n",
              "  _uploadFilesContinue,\n",
              "};\n",
              "})(self);\n",
              "</script> "
            ]
          },
          "metadata": {}
        },
        {
          "output_type": "stream",
          "name": "stdout",
          "text": [
            "Saving Dataset.csv to Dataset.csv\n"
          ]
        }
      ]
    },
    {
      "cell_type": "markdown",
      "source": [
        "##Load Dataset"
      ],
      "metadata": {
        "id": "0LrTIo86Nn0X"
      }
    },
    {
      "cell_type": "code",
      "source": [
        "dataset = pd.read_csv('Dataset.csv')\n",
        "print(dataset)"
      ],
      "metadata": {
        "colab": {
          "base_uri": "https://localhost:8080/"
        },
        "id": "KBRZkOloNhvw",
        "outputId": "617e4f9f-87c9-499f-c47f-666b2ef377aa"
      },
      "execution_count": 4,
      "outputs": [
        {
          "output_type": "stream",
          "name": "stdout",
          "text": [
            "     Age  Salary  Expenses  Savings  Status\n",
            "0     20   15000     12000     3000       0\n",
            "1     21   16000     11000     5000       0\n",
            "2     22   17000     15000     2000       0\n",
            "3     23   18000     13000     5000       0\n",
            "4     24   19000     14000     5000       0\n",
            "..   ...     ...       ...      ...     ...\n",
            "175   24   48000     41000     7000       0\n",
            "176   23   49000     37000    12000       1\n",
            "177   22   50000     46000     4000       0\n",
            "178   21   34000     19000    15000       1\n",
            "179   20   33000     17000    16000       1\n",
            "\n",
            "[180 rows x 5 columns]\n"
          ]
        }
      ]
    },
    {
      "cell_type": "markdown",
      "source": [
        "##Summarize dataset"
      ],
      "metadata": {
        "id": "61jm4FfvP8Gn"
      }
    },
    {
      "cell_type": "code",
      "source": [
        "print(dataset.shape)\n"
      ],
      "metadata": {
        "colab": {
          "base_uri": "https://localhost:8080/"
        },
        "id": "lRVO5fnxP_S_",
        "outputId": "147799d7-0f3f-4f3e-a71f-3e70ce5bf4c7"
      },
      "execution_count": 5,
      "outputs": [
        {
          "output_type": "stream",
          "name": "stdout",
          "text": [
            "(180, 5)\n"
          ]
        }
      ]
    },
    {
      "cell_type": "code",
      "source": [
        "print(dataset.head(5))"
      ],
      "metadata": {
        "colab": {
          "base_uri": "https://localhost:8080/"
        },
        "id": "0DUZHECOKmBX",
        "outputId": "1b5b1722-9958-4e8a-f2cc-1d150e492963"
      },
      "execution_count": 6,
      "outputs": [
        {
          "output_type": "stream",
          "name": "stdout",
          "text": [
            "   Age  Salary  Expenses  Savings  Status\n",
            "0   20   15000     12000     3000       0\n",
            "1   21   16000     11000     5000       0\n",
            "2   22   17000     15000     2000       0\n",
            "3   23   18000     13000     5000       0\n",
            "4   24   19000     14000     5000       0\n"
          ]
        }
      ]
    },
    {
      "cell_type": "code",
      "source": [
        "print(dataset.tail(10))"
      ],
      "metadata": {
        "colab": {
          "base_uri": "https://localhost:8080/"
        },
        "id": "M69FCcA2KoWc",
        "outputId": "48ccf206-0785-404f-900d-f6628a231d08"
      },
      "execution_count": 7,
      "outputs": [
        {
          "output_type": "stream",
          "name": "stdout",
          "text": [
            "     Age  Salary  Expenses  Savings  Status\n",
            "170   29   43000     28000    15000       1\n",
            "171   28   44000     33000    11000       1\n",
            "172   27   45000     29000    16000       1\n",
            "173   26   46000     31000    15000       1\n",
            "174   25   47000     42000     5000       0\n",
            "175   24   48000     41000     7000       0\n",
            "176   23   49000     37000    12000       1\n",
            "177   22   50000     46000     4000       0\n",
            "178   21   34000     19000    15000       1\n",
            "179   20   33000     17000    16000       1\n"
          ]
        }
      ]
    },
    {
      "cell_type": "markdown",
      "source": [
        "##Segregate Dataset into Inputs(X) and Output(Y)"
      ],
      "metadata": {
        "id": "mmyC-qSpQMzM"
      }
    },
    {
      "cell_type": "code",
      "source": [
        "X = dataset.iloc[:, :-1].values\n",
        "X"
      ],
      "metadata": {
        "colab": {
          "base_uri": "https://localhost:8080/"
        },
        "id": "5N5HwdYDQTkl",
        "outputId": "c286c654-155a-4c0b-c557-c9de14dae9ff"
      },
      "execution_count": 8,
      "outputs": [
        {
          "output_type": "execute_result",
          "data": {
            "text/plain": [
              "array([[   20, 15000, 12000,  3000],\n",
              "       [   21, 16000, 11000,  5000],\n",
              "       [   22, 17000, 15000,  2000],\n",
              "       [   23, 18000, 13000,  5000],\n",
              "       [   24, 19000, 14000,  5000],\n",
              "       [   25, 20000, 16000,  4000],\n",
              "       [   26, 21000, 13000,  8000],\n",
              "       [   27, 22000, 16000,  6000],\n",
              "       [   28, 23000, 19000,  4000],\n",
              "       [   29, 24000, 20000,  4000],\n",
              "       [   30, 25000, 14000, 11000],\n",
              "       [   31, 26000, 19000,  7000],\n",
              "       [   32, 27000, 22000,  5000],\n",
              "       [   33, 28000, 18000, 10000],\n",
              "       [   34, 29000, 15000, 14000],\n",
              "       [   35, 30000, 24000,  6000],\n",
              "       [   36, 31000, 26000,  5000],\n",
              "       [   37, 32000, 19000, 13000],\n",
              "       [   38, 33000, 17000, 16000],\n",
              "       [   39, 34000, 30000,  4000],\n",
              "       [   40, 35000, 25000, 10000],\n",
              "       [   41, 36000, 27000,  9000],\n",
              "       [   42, 37000, 26000, 11000],\n",
              "       [   43, 38000, 23000, 15000],\n",
              "       [   44, 39000, 29000, 10000],\n",
              "       [   45, 40000, 24000, 16000],\n",
              "       [   46, 41000, 32000,  9000],\n",
              "       [   47, 42000, 28000, 14000],\n",
              "       [   48, 43000, 27000, 16000],\n",
              "       [   49, 44000, 34000, 10000],\n",
              "       [   50, 45000, 39000,  6000],\n",
              "       [   30, 46000, 36000, 10000],\n",
              "       [   31, 47000, 34000, 13000],\n",
              "       [   32, 48000, 31000, 17000],\n",
              "       [   33, 49000, 35000, 14000],\n",
              "       [   34, 50000, 48000,  2000],\n",
              "       [   35, 90000, 72000, 18000],\n",
              "       [   36, 89000, 78000, 11000],\n",
              "       [   37, 88000, 67000, 21000],\n",
              "       [   38, 87000, 69000, 18000],\n",
              "       [   39, 86000, 49000, 37000],\n",
              "       [   20, 85000, 68000, 17000],\n",
              "       [   21, 84000, 49000, 35000],\n",
              "       [   22, 83000, 59000, 24000],\n",
              "       [   23, 82000, 67000, 15000],\n",
              "       [   24, 81000, 78000,  3000],\n",
              "       [   25, 80000, 74000,  6000],\n",
              "       [   26, 79000, 68000, 11000],\n",
              "       [   27, 78000, 69000,  9000],\n",
              "       [   28, 77000, 73000,  4000],\n",
              "       [   29, 76000, 65000, 11000],\n",
              "       [   40, 75000, 69000,  7000],\n",
              "       [   41, 74000, 72000,  2000],\n",
              "       [   42, 73000, 67000,  6000],\n",
              "       [   43, 72000, 58000, 14000],\n",
              "       [   44, 71000, 51000, 20000],\n",
              "       [   45, 70000, 67000,  3000],\n",
              "       [   46, 69000, 59000, 10000],\n",
              "       [   47, 68000, 57000, 11000],\n",
              "       [   48, 67000, 51000, 16000],\n",
              "       [   49, 66000, 53000, 13000],\n",
              "       [   50, 65000, 61000,  4000],\n",
              "       [   39, 64000, 49000, 15000],\n",
              "       [   38, 63000, 43000, 20000],\n",
              "       [   37, 62000, 47000, 15000],\n",
              "       [   36, 61000, 42000, 19000],\n",
              "       [   35, 60000, 53000,  7000],\n",
              "       [   34, 59000, 51000,  8000],\n",
              "       [   33, 58000, 49000,  9000],\n",
              "       [   32, 57000, 49000,  8000],\n",
              "       [   31, 56000, 51000,  5000],\n",
              "       [   30, 55000, 48000,  7000],\n",
              "       [   49, 54000, 46000,  8000],\n",
              "       [   48, 53000, 45000,  8000],\n",
              "       [   47, 52000, 43000,  9000],\n",
              "       [   46, 51000, 47000,  4000],\n",
              "       [   45, 50000, 41000,  9000],\n",
              "       [   44, 30000, 24000,  6000],\n",
              "       [   43, 31000, 21000, 10000],\n",
              "       [   42, 32000, 26000,  6000],\n",
              "       [   41, 33000, 28000,  5000],\n",
              "       [   29, 34000, 24000, 10000],\n",
              "       [   28, 35000, 29000,  6000],\n",
              "       [   27, 36000, 31000,  5000],\n",
              "       [   26, 37000, 34000,  3000],\n",
              "       [   25, 38000, 29000,  9000],\n",
              "       [   24, 39000, 27000, 12000],\n",
              "       [   23, 40000, 38000,  2000],\n",
              "       [   22, 15000, 13000,  2000],\n",
              "       [   21, 16000, 12000,  4000],\n",
              "       [   20, 17000, 12000,  5000],\n",
              "       [   25, 18000,  8000, 10000],\n",
              "       [   35, 19000,  9000, 10000],\n",
              "       [   45, 20000, 11000,  9000],\n",
              "       [   26, 21000, 13000,  8000],\n",
              "       [   36, 22000, 14000,  8000],\n",
              "       [   46, 23000, 11000, 12000],\n",
              "       [   27, 24000,  9000, 15000],\n",
              "       [   37, 25000, 13000, 12000],\n",
              "       [   47, 26000, 11000, 15000],\n",
              "       [   28, 27000, 17000, 10000],\n",
              "       [   38, 28000, 14000, 14000],\n",
              "       [   48, 29000, 12000, 17000],\n",
              "       [   29, 30000, 19000, 11000],\n",
              "       [   39, 49000, 28000, 21000],\n",
              "       [   49, 48000, 26000, 22000],\n",
              "       [   21, 47000, 29000, 18000],\n",
              "       [   31, 46000, 27000, 19000],\n",
              "       [   41, 45000, 38000,  7000],\n",
              "       [   22, 44000, 34000, 10000],\n",
              "       [   32, 43000, 35000,  8000],\n",
              "       [   42, 42000, 39000,  3000],\n",
              "       [   23, 41000, 27000, 14000],\n",
              "       [   33, 40000, 26000, 14000],\n",
              "       [   43, 31000, 21000, 10000],\n",
              "       [   24, 32000, 23000,  9000],\n",
              "       [   34, 33000, 28000,  5000],\n",
              "       [   44, 34000, 26000,  8000],\n",
              "       [   50, 35000, 24000, 11000],\n",
              "       [   49, 36000, 21000, 15000],\n",
              "       [   48, 37000, 28000,  9000],\n",
              "       [   47, 38000, 29000,  9000],\n",
              "       [   46, 39000, 26000, 12000],\n",
              "       [   45, 50000, 49000,  1000],\n",
              "       [   44, 40000, 34000,  6000],\n",
              "       [   43, 30000, 26000,  4000],\n",
              "       [   42, 20000, 16000,  4000],\n",
              "       [   41, 25000, 19000,  6000],\n",
              "       [   40, 35000, 31000,  4000],\n",
              "       [   39, 45000, 42000,  3000],\n",
              "       [   38, 49000, 39000, 10000],\n",
              "       [   37, 50000, 38000, 12000],\n",
              "       [   36, 49000, 42000,  7000],\n",
              "       [   35, 48000, 26000, 22000],\n",
              "       [   34, 47000, 39000,  8000],\n",
              "       [   33, 46000, 31000, 15000],\n",
              "       [   32, 45000, 29000, 16000],\n",
              "       [   31, 44000, 31000, 13000],\n",
              "       [   30, 43000, 27000, 16000],\n",
              "       [   29, 42000, 37000,  5000],\n",
              "       [   28, 41000, 32000,  9000],\n",
              "       [   27, 40000, 29000, 11000],\n",
              "       [   26, 39000, 31000,  8000],\n",
              "       [   25, 38000, 27000, 11000],\n",
              "       [   24, 37000, 23000, 14000],\n",
              "       [   23, 36000, 28000,  8000],\n",
              "       [   22, 35000, 32000,  3000],\n",
              "       [   21, 34000, 29000,  5000],\n",
              "       [   20, 33000, 24000,  9000],\n",
              "       [   35, 32000, 19000, 13000],\n",
              "       [   36, 31000, 23000,  8000],\n",
              "       [   37, 30000, 28000,  2000],\n",
              "       [   38, 29000, 21000,  8000],\n",
              "       [   39, 28000, 12000, 16000],\n",
              "       [   40, 27000, 18000,  9000],\n",
              "       [   41, 26000, 19000,  7000],\n",
              "       [   42, 25000, 21000,  4000],\n",
              "       [   43, 24000, 16000,  8000],\n",
              "       [   44, 23000, 11000, 12000],\n",
              "       [   45, 22000, 18000,  4000],\n",
              "       [   46, 21000, 14000,  7000],\n",
              "       [   47, 20000, 12000,  8000],\n",
              "       [   48, 35000, 18000, 17000],\n",
              "       [   49, 36000, 16000, 20000],\n",
              "       [   50, 37000, 27000, 10000],\n",
              "       [   34, 38000, 23000, 15000],\n",
              "       [   33, 39000, 27000, 12000],\n",
              "       [   32, 40000, 32000,  8000],\n",
              "       [   31, 41000, 37000,  4000],\n",
              "       [   30, 42000, 34000,  8000],\n",
              "       [   29, 43000, 28000, 15000],\n",
              "       [   28, 44000, 33000, 11000],\n",
              "       [   27, 45000, 29000, 16000],\n",
              "       [   26, 46000, 31000, 15000],\n",
              "       [   25, 47000, 42000,  5000],\n",
              "       [   24, 48000, 41000,  7000],\n",
              "       [   23, 49000, 37000, 12000],\n",
              "       [   22, 50000, 46000,  4000],\n",
              "       [   21, 34000, 19000, 15000],\n",
              "       [   20, 33000, 17000, 16000]])"
            ]
          },
          "metadata": {},
          "execution_count": 8
        }
      ]
    },
    {
      "cell_type": "code",
      "source": [
        "Y = dataset.iloc[:, -1].values\n",
        "Y"
      ],
      "metadata": {
        "colab": {
          "base_uri": "https://localhost:8080/"
        },
        "id": "wl4Sk1HoQk3R",
        "outputId": "649e995c-b35a-43b1-e828-a4d8b6601d77"
      },
      "execution_count": 9,
      "outputs": [
        {
          "output_type": "execute_result",
          "data": {
            "text/plain": [
              "array([0, 0, 0, 0, 0, 0, 0, 0, 0, 0, 1, 0, 0, 1, 1, 0, 0, 1, 1, 0, 1, 0,\n",
              "       1, 1, 1, 1, 0, 1, 1, 1, 0, 1, 1, 1, 1, 0, 1, 1, 1, 1, 1, 1, 1, 1,\n",
              "       1, 0, 0, 1, 0, 0, 1, 0, 0, 0, 1, 1, 0, 1, 1, 1, 1, 0, 1, 1, 1, 1,\n",
              "       0, 0, 0, 0, 0, 0, 0, 0, 0, 0, 0, 0, 1, 0, 0, 1, 0, 0, 0, 0, 1, 0,\n",
              "       0, 0, 0, 1, 1, 0, 0, 0, 1, 1, 1, 1, 1, 1, 1, 1, 1, 1, 1, 1, 0, 1,\n",
              "       0, 0, 1, 1, 1, 0, 0, 0, 1, 1, 0, 0, 1, 0, 0, 0, 0, 0, 0, 0, 1, 1,\n",
              "       0, 1, 0, 1, 1, 1, 1, 0, 0, 1, 0, 1, 1, 0, 0, 0, 0, 1, 0, 0, 0, 1,\n",
              "       0, 0, 0, 0, 1, 0, 0, 0, 1, 1, 1, 1, 1, 0, 0, 0, 1, 1, 1, 1, 0, 0,\n",
              "       1, 0, 1, 1])"
            ]
          },
          "metadata": {},
          "execution_count": 9
        }
      ]
    },
    {
      "cell_type": "markdown",
      "source": [
        "##Splitting Dataset into Train and Test"
      ],
      "metadata": {
        "id": "VRU3YgLGQ1ii"
      }
    },
    {
      "cell_type": "code",
      "source": [
        "!pip install scikit-learn"
      ],
      "metadata": {
        "colab": {
          "base_uri": "https://localhost:8080/"
        },
        "id": "356RsFLIQ6_i",
        "outputId": "ce015a0a-eea4-4f54-fa24-0a3c7c436bae"
      },
      "execution_count": 10,
      "outputs": [
        {
          "output_type": "stream",
          "name": "stdout",
          "text": [
            "Requirement already satisfied: scikit-learn in /usr/local/lib/python3.10/dist-packages (1.2.2)\n",
            "Requirement already satisfied: numpy>=1.17.3 in /usr/local/lib/python3.10/dist-packages (from scikit-learn) (1.23.5)\n",
            "Requirement already satisfied: scipy>=1.3.2 in /usr/local/lib/python3.10/dist-packages (from scikit-learn) (1.10.1)\n",
            "Requirement already satisfied: joblib>=1.1.1 in /usr/local/lib/python3.10/dist-packages (from scikit-learn) (1.3.2)\n",
            "Requirement already satisfied: threadpoolctl>=2.0.0 in /usr/local/lib/python3.10/dist-packages (from scikit-learn) (3.2.0)\n"
          ]
        }
      ]
    },
    {
      "cell_type": "code",
      "source": [
        "from sklearn.model_selection import train_test_split\n",
        "x_train, x_test, y_train, y_test = train_test_split(X,Y, test_size = 0.15, random_state = 0)\n"
      ],
      "metadata": {
        "id": "jj84YaI2RJOR"
      },
      "execution_count": 11,
      "outputs": []
    },
    {
      "cell_type": "markdown",
      "source": [
        "##Feature Scaling -\n",
        "1. Rescale the data into universal scales\n",
        "2. We scale our data to make all the features contribute equally to the result."
      ],
      "metadata": {
        "id": "KMWO4us7R_bN"
      }
    },
    {
      "cell_type": "code",
      "source": [
        "from sklearn.preprocessing import StandardScaler\n",
        "sc = StandardScaler()\n",
        "X_train = sc.fit_transform(x_train)\n",
        "X_test = sc.transform(x_test)\n",
        "print(X_train)"
      ],
      "metadata": {
        "colab": {
          "base_uri": "https://localhost:8080/"
        },
        "id": "vwI7zfWtSE5I",
        "outputId": "5adfe03d-34c8-406b-f155-21e67801cfa5"
      },
      "execution_count": 12,
      "outputs": [
        {
          "output_type": "stream",
          "name": "stdout",
          "text": [
            "[[-0.18372228 -0.23057431 -0.37355275  0.35820117]\n",
            " [-0.40770242 -0.12015844  0.22491396 -1.03366624]\n",
            " [ 1.72010896  1.20483196  1.66123405 -1.03366624]\n",
            " [-1.30362301  2.14336683  2.02031407  0.88015145]\n",
            " [ 1.27214867 -0.12015844 -0.07431939 -0.16374911]\n",
            " [-0.40770242  0.15588122 -0.37355275  1.57608515]\n",
            " [ 0.26423802  0.37671296  0.28476063  0.35820117]\n",
            " [ 0.04025787  0.92879229  1.18246069 -0.51171596]\n",
            " [-0.74367264 -1.11390124 -0.85232611 -1.03366624]\n",
            " [ 1.04816853  1.53607956  1.06276734  1.75006858]\n",
            " [-0.85566271 -0.39619811 -0.13416607 -0.85968281]\n",
            " [-1.19163293  2.08815889  2.67862745 -1.20764966]\n",
            " [ 1.60811889 -0.39619811 -1.03186612  1.75006858]\n",
            " [ 1.1601586   0.37671296  0.943074   -1.55561651]\n",
            " [ 1.04816853 -0.23057431 -0.25385941  0.01023432]\n",
            " [ 1.72010896  0.10067329  0.3446073  -0.68569938]\n",
            " [ 0.15224794 -1.16910918 -1.15155946 -0.33773253]\n",
            " [ 0.93617845  1.59128749  1.48169404  0.70616802]\n",
            " [ 0.71219831 -0.56182191 -0.31370608 -0.85968281]\n",
            " [ 0.48821816 -0.50661398 -0.19401274 -1.03366624]\n",
            " [-0.40770242  0.04546536 -0.13416607  0.5321846 ]\n",
            " [ 0.48821816  0.32150502 -0.31370608  1.92405201]\n",
            " [-1.41561308 -0.45140604 -0.07431939 -1.20764966]\n",
            " [ 0.15224794 -0.67223778 -0.43339942 -0.85968281]\n",
            " [ 0.60020823  1.75691129  2.14000741 -0.51171596]\n",
            " [-0.63168257 -0.00974258 -0.31370608  0.88015145]\n",
            " [ 1.38413875 -0.28578224 -0.25385941 -0.16374911]\n",
            " [ 0.48821816  2.36419856  0.943074    4.70778682]\n",
            " [ 1.38413875  0.48712882  0.58399398 -0.16374911]\n",
            " [ 0.82418838 -0.34099018 -0.43339942  0.18421775]\n",
            " [-0.29571235 -0.00974258  0.10522062 -0.33773253]\n",
            " [ 0.82418838 -0.06495051  0.3446073  -1.20764966]\n",
            " [ 0.48821816  0.10067329  0.52414731 -1.20764966]\n",
            " [ 1.27214867 -1.11390124 -1.33109948  0.35820117]\n",
            " [-1.63959323 -1.44514884 -1.2712528  -0.85968281]\n",
            " [-0.0717322  -0.56182191 -0.31370608 -0.85968281]\n",
            " [ 1.38413875 -0.06495051 -0.31370608  0.70616802]\n",
            " [-0.96765279 -1.22431711 -1.21140613 -0.33773253]\n",
            " [ 0.93617845 -1.05869331 -1.03186612 -0.33773253]\n",
            " [ 0.37622809  0.32150502  0.3446073   0.01023432]\n",
            " [-1.30362301  0.32150502  0.22491396  0.35820117]\n",
            " [-1.52760315 -1.50035678 -1.2712528  -1.03366624]\n",
            " [ 0.48821816  1.14962402  0.943074    0.88015145]\n",
            " [-1.41561308 -1.44514884 -1.09171279 -1.38163309]\n",
            " [ 1.49612882  1.31524783  1.06276734  1.05413488]\n",
            " [-0.85566271 -1.05869331 -1.45079282  0.88015145]\n",
            " [ 0.26423802 -1.00348538 -1.21140613  0.35820117]\n",
            " [-1.41561308  2.19857476  1.54154071  2.44600228]\n",
            " [-0.5196925  -1.00348538 -1.15155946  0.18421775]\n",
            " [-1.19163293 -0.23057431 -0.37355275  0.35820117]\n",
            " [ 1.49612882  0.54233676  0.70368732 -0.33773253]\n",
            " [-0.96765279  0.15588122 -0.13416607  0.88015145]\n",
            " [ 1.38413875 -1.27952504 -1.2712528  -0.33773253]\n",
            " [-1.30362301 -0.12015844 -0.37355275  0.70616802]\n",
            " [-0.5196925  -0.00974258 -0.37355275  1.05413488]\n",
            " [ 1.1601586  -1.27952504 -1.33109948 -0.16374911]\n",
            " [ 0.15224794 -0.67223778 -0.61293943 -0.33773253]\n",
            " [-1.63959323 -0.56182191 -0.97201945  1.05413488]\n",
            " [-0.63168257  1.81211923  1.90062073  0.18421775]\n",
            " [-1.41561308  0.37671296  0.76353399 -1.03366624]\n",
            " [ 1.72010896 -0.45140604 -0.55309276  0.18421775]\n",
            " [ 0.26423802  1.03920816  0.82338066  0.88015145]\n",
            " [ 1.04816853 -0.17536638  0.04537395 -0.68569938]\n",
            " [ 0.82418838 -1.27952504 -1.03186612 -1.03366624]\n",
            " [-0.29571235  0.76316849  0.943074   -0.33773253]\n",
            " [-0.74367264  1.86732716  2.3793941  -1.03366624]\n",
            " [-0.85566271  1.92253509  2.14000741 -0.16374911]\n",
            " [-1.07964286 -0.28578224 -0.25385941 -0.16374911]\n",
            " [-0.18372228 -0.83786158 -0.91217278  0.01023432]\n",
            " [-0.18372228  0.15588122 -0.13416607  0.88015145]\n",
            " [ 0.93617845 -0.28578224 -0.61293943  0.88015145]\n",
            " [-0.29571235 -0.17536638 -0.07431939 -0.33773253]\n",
            " [ 0.60020823 -0.45140604 -0.49324609  0.01023432]\n",
            " [ 0.04025787 -0.72744571 -0.55309276 -0.68569938]\n",
            " [ 0.93617845 -0.67223778 -0.73263277  0.01023432]\n",
            " [ 0.71219831  1.70170336  2.31954743 -1.38163309]\n",
            " [-0.74367264 -0.89306951 -0.97201945  0.01023432]\n",
            " [ 1.1601586   0.37671296  0.46430064 -0.16374911]\n",
            " [-1.30362301 -1.38994091 -1.21140613 -0.85968281]\n",
            " [-1.52760315 -0.50661398 -0.85232611  0.88015145]\n",
            " [-1.41561308  0.04546536  0.04537395  0.01023432]\n",
            " [-0.96765279 -1.22431711 -1.21140613 -0.33773253]\n",
            " [-0.18372228  0.81837642  0.943074   -0.16374911]\n",
            " [ 1.27214867  0.43192089  0.82338066 -1.03366624]\n",
            " [-0.96765279 -0.34099018  0.04537395 -1.20764966]\n",
            " [-0.0717322   0.21108916  0.3446073  -0.33773253]\n",
            " [-0.29571235 -0.89306951 -0.6727861  -0.85968281]\n",
            " [-0.63168257 -0.06495051  0.22491396 -0.85968281]\n",
            " [ 0.60020823 -0.89306951 -0.91217278 -0.16374911]\n",
            " [-0.0717322  -0.78265364 -1.09171279  0.70616802]\n",
            " [-1.63959323 -1.55556471 -1.2712528  -1.20764966]\n",
            " [-1.07964286 -1.38994091 -1.51063949  0.01023432]\n",
            " [ 0.71219831 -0.94827744 -0.85232611 -0.51171596]\n",
            " [-1.07964286  2.03295096  2.43924077 -0.68569938]\n",
            " [-0.40770242 -0.94827744 -0.85232611 -0.51171596]\n",
            " [ 1.60811889 -0.39619811 -0.73263277  0.88015145]\n",
            " [ 1.49612882 -0.78265364 -1.2712528   1.2281183 ]\n",
            " [-0.0717322   0.37671296  0.88322733 -1.38163309]\n",
            " [ 1.27214867  1.42566369  1.54154071  0.01023432]\n",
            " [-1.63959323  2.30899063  2.08016074  1.2281183 ]\n",
            " [-1.19163293  0.26629709  0.46430064 -0.51171596]\n",
            " [ 0.15224794  0.98400022  0.52414731  1.57608515]\n",
            " [-1.52760315 -1.50035678 -1.33109948 -0.85968281]\n",
            " [ 1.49612882 -0.34099018 -0.31370608 -0.16374911]\n",
            " [-1.30362301 -0.39619811 -0.31370608 -0.33773253]\n",
            " [-1.52760315  2.25378269  0.943074    4.35981997]\n",
            " [ 1.60811889  0.26629709 -0.43339942  2.09803543]\n",
            " [ 0.15224794  0.32150502  0.52414731 -0.51171596]\n",
            " [ 0.82418838 -1.00348538 -0.73263277 -1.03366624]\n",
            " [ 0.26423802 -0.61702984 -0.85232611  0.5321846 ]\n",
            " [ 0.26423802  2.47461443  2.02031407  1.92405201]\n",
            " [ 0.04025787  0.26629709 -0.43339942  2.09803543]\n",
            " [ 0.82418838  1.64649543  2.02031407 -0.68569938]\n",
            " [-0.85566271 -0.17536638 -0.25385941  0.18421775]\n",
            " [ 0.60020823 -0.45140604 -0.13416607 -1.03366624]\n",
            " [-0.18372228  0.32150502  0.10522062  0.70616802]\n",
            " [ 1.49612882 -0.00974258 -0.37355275  1.05413488]\n",
            " [ 0.93617845 -0.67223778 -0.73263277  0.01023432]\n",
            " [-0.5196925   0.15588122  0.16506729  0.01023432]\n",
            " [ 0.04025787 -0.61702984 -0.85232611  0.5321846 ]\n",
            " [ 0.71219831 -1.00348538 -0.85232611 -0.68569938]\n",
            " [ 1.1601586  -1.16910918 -0.91217278 -1.03366624]\n",
            " [-0.40770242  0.21108916  0.04537395  0.5321846 ]\n",
            " [-0.96765279 -0.23057431 -0.13416607 -0.33773253]\n",
            " [ 0.37622809 -0.78265364 -0.73263277 -0.33773253]\n",
            " [-1.52760315 -0.50661398 -0.25385941 -0.85968281]\n",
            " [ 1.60811889  0.04546536  0.04537395  0.01023432]\n",
            " [ 1.38413875 -0.94827744 -1.33109948  0.88015145]\n",
            " [-0.74367264 -0.45140604 -0.25385941 -0.68569938]\n",
            " [ 0.82418838 -0.61702984 -0.43339942 -0.68569938]\n",
            " [-1.19163293 -0.61702984 -0.61293943 -0.16374911]\n",
            " [-1.63959323 -0.56182191 -0.55309276 -0.16374911]\n",
            " [-1.07964286  0.21108916  0.52414731 -0.85968281]\n",
            " [ 1.60811889  0.59754469  0.76353399 -0.33773253]\n",
            " [ 1.04816853 -0.72744571 -0.55309276 -0.68569938]\n",
            " [ 1.1601586  -0.17536638 -0.55309276  1.05413488]\n",
            " [-0.63168257 -0.50661398 -0.55309276  0.01023432]\n",
            " [-0.5196925  -0.06495051  0.04537395 -0.33773253]\n",
            " [-0.74367264  0.04546536 -0.01447272  0.18421775]\n",
            " [ 0.37622809  2.41940649  2.14000741  1.40210173]\n",
            " [ 1.38413875  1.37045576  1.42184737  0.18421775]\n",
            " [-0.74367264 -0.12015844 -0.07431939 -0.16374911]\n",
            " [-1.41561308 -1.55556471 -1.21140613 -1.38163309]\n",
            " [-0.40770242  0.70796056  1.06276734 -0.85968281]\n",
            " [-1.30362301 -0.17536638  0.28476063 -1.38163309]\n",
            " [ 0.04025787  2.58503029  2.31954743  1.40210173]\n",
            " [ 0.71219831 -0.39619811 -0.37355275 -0.16374911]\n",
            " [-0.63168257 -1.05869331 -0.79247944 -1.03366624]\n",
            " [-0.63168257 -0.72744571 -0.85232611  0.18421775]\n",
            " [-0.0717322   0.87358436  1.06276734 -0.33773253]\n",
            " [ 1.04816853 -0.50661398 -0.43339942 -0.33773253]\n",
            " [-0.96765279  1.97774303  2.08016074  0.18421775]\n",
            " [-0.85566271  0.10067329 -0.25385941  1.05413488]]\n"
          ]
        }
      ]
    },
    {
      "cell_type": "markdown",
      "source": [
        "##Training - Training our model for pre_processed dataset"
      ],
      "metadata": {
        "id": "6J6G_6OeTD9G"
      }
    },
    {
      "cell_type": "code",
      "source": [
        "from sklearn.linear_model import LogisticRegression\n",
        "model = LogisticRegression()\n",
        "model.fit(X_train, y_train)"
      ],
      "metadata": {
        "colab": {
          "base_uri": "https://localhost:8080/",
          "height": 74
        },
        "id": "Fvw4vStETHFK",
        "outputId": "0c3b6812-880d-4aa8-c032-1c85e666e6c8"
      },
      "execution_count": 13,
      "outputs": [
        {
          "output_type": "execute_result",
          "data": {
            "text/plain": [
              "LogisticRegression()"
            ],
            "text/html": [
              "<style>#sk-container-id-1 {color: black;background-color: white;}#sk-container-id-1 pre{padding: 0;}#sk-container-id-1 div.sk-toggleable {background-color: white;}#sk-container-id-1 label.sk-toggleable__label {cursor: pointer;display: block;width: 100%;margin-bottom: 0;padding: 0.3em;box-sizing: border-box;text-align: center;}#sk-container-id-1 label.sk-toggleable__label-arrow:before {content: \"▸\";float: left;margin-right: 0.25em;color: #696969;}#sk-container-id-1 label.sk-toggleable__label-arrow:hover:before {color: black;}#sk-container-id-1 div.sk-estimator:hover label.sk-toggleable__label-arrow:before {color: black;}#sk-container-id-1 div.sk-toggleable__content {max-height: 0;max-width: 0;overflow: hidden;text-align: left;background-color: #f0f8ff;}#sk-container-id-1 div.sk-toggleable__content pre {margin: 0.2em;color: black;border-radius: 0.25em;background-color: #f0f8ff;}#sk-container-id-1 input.sk-toggleable__control:checked~div.sk-toggleable__content {max-height: 200px;max-width: 100%;overflow: auto;}#sk-container-id-1 input.sk-toggleable__control:checked~label.sk-toggleable__label-arrow:before {content: \"▾\";}#sk-container-id-1 div.sk-estimator input.sk-toggleable__control:checked~label.sk-toggleable__label {background-color: #d4ebff;}#sk-container-id-1 div.sk-label input.sk-toggleable__control:checked~label.sk-toggleable__label {background-color: #d4ebff;}#sk-container-id-1 input.sk-hidden--visually {border: 0;clip: rect(1px 1px 1px 1px);clip: rect(1px, 1px, 1px, 1px);height: 1px;margin: -1px;overflow: hidden;padding: 0;position: absolute;width: 1px;}#sk-container-id-1 div.sk-estimator {font-family: monospace;background-color: #f0f8ff;border: 1px dotted black;border-radius: 0.25em;box-sizing: border-box;margin-bottom: 0.5em;}#sk-container-id-1 div.sk-estimator:hover {background-color: #d4ebff;}#sk-container-id-1 div.sk-parallel-item::after {content: \"\";width: 100%;border-bottom: 1px solid gray;flex-grow: 1;}#sk-container-id-1 div.sk-label:hover label.sk-toggleable__label {background-color: #d4ebff;}#sk-container-id-1 div.sk-serial::before {content: \"\";position: absolute;border-left: 1px solid gray;box-sizing: border-box;top: 0;bottom: 0;left: 50%;z-index: 0;}#sk-container-id-1 div.sk-serial {display: flex;flex-direction: column;align-items: center;background-color: white;padding-right: 0.2em;padding-left: 0.2em;position: relative;}#sk-container-id-1 div.sk-item {position: relative;z-index: 1;}#sk-container-id-1 div.sk-parallel {display: flex;align-items: stretch;justify-content: center;background-color: white;position: relative;}#sk-container-id-1 div.sk-item::before, #sk-container-id-1 div.sk-parallel-item::before {content: \"\";position: absolute;border-left: 1px solid gray;box-sizing: border-box;top: 0;bottom: 0;left: 50%;z-index: -1;}#sk-container-id-1 div.sk-parallel-item {display: flex;flex-direction: column;z-index: 1;position: relative;background-color: white;}#sk-container-id-1 div.sk-parallel-item:first-child::after {align-self: flex-end;width: 50%;}#sk-container-id-1 div.sk-parallel-item:last-child::after {align-self: flex-start;width: 50%;}#sk-container-id-1 div.sk-parallel-item:only-child::after {width: 0;}#sk-container-id-1 div.sk-dashed-wrapped {border: 1px dashed gray;margin: 0 0.4em 0.5em 0.4em;box-sizing: border-box;padding-bottom: 0.4em;background-color: white;}#sk-container-id-1 div.sk-label label {font-family: monospace;font-weight: bold;display: inline-block;line-height: 1.2em;}#sk-container-id-1 div.sk-label-container {text-align: center;}#sk-container-id-1 div.sk-container {/* jupyter's `normalize.less` sets `[hidden] { display: none; }` but bootstrap.min.css set `[hidden] { display: none !important; }` so we also need the `!important` here to be able to override the default hidden behavior on the sphinx rendered scikit-learn.org. See: https://github.com/scikit-learn/scikit-learn/issues/21755 */display: inline-block !important;position: relative;}#sk-container-id-1 div.sk-text-repr-fallback {display: none;}</style><div id=\"sk-container-id-1\" class=\"sk-top-container\"><div class=\"sk-text-repr-fallback\"><pre>LogisticRegression()</pre><b>In a Jupyter environment, please rerun this cell to show the HTML representation or trust the notebook. <br />On GitHub, the HTML representation is unable to render, please try loading this page with nbviewer.org.</b></div><div class=\"sk-container\" hidden><div class=\"sk-item\"><div class=\"sk-estimator sk-toggleable\"><input class=\"sk-toggleable__control sk-hidden--visually\" id=\"sk-estimator-id-1\" type=\"checkbox\" checked><label for=\"sk-estimator-id-1\" class=\"sk-toggleable__label sk-toggleable__label-arrow\">LogisticRegression</label><div class=\"sk-toggleable__content\"><pre>LogisticRegression()</pre></div></div></div></div></div>"
            ]
          },
          "metadata": {},
          "execution_count": 13
        }
      ]
    },
    {
      "cell_type": "markdown",
      "source": [
        "Predicting, wheather new customer with Age & Salary will Buy or Not"
      ],
      "metadata": {
        "id": "xDy2VjjAzuBF"
      }
    },
    {
      "cell_type": "code",
      "source": [
        "age = int(input(\"Enter New Customer's Age: \"))\n",
        "sal = int(input(\"Enter New Customer's Salary: \"))\n",
        "exp = int(input(\"Enter New Customer's Expenses: \"))\n",
        "sav = int(input(\"Enter New Customer's Savings : \"))\n",
        "newCust = [[age, sal, exp, sav]]\n",
        "result = model.predict(sc.transform(newCust))\n",
        "print(result)\n",
        "if result == 1:\n",
        "  print(\"customer will buy\")\n",
        "else:\n",
        "  print(\"customer will not buy\")"
      ],
      "metadata": {
        "colab": {
          "base_uri": "https://localhost:8080/"
        },
        "id": "NZHobbBVz-ZX",
        "outputId": "3895068e-dd11-4916-bdc8-a243e1a2c61a"
      },
      "execution_count": 14,
      "outputs": [
        {
          "output_type": "stream",
          "name": "stdout",
          "text": [
            "Enter New Customer's Age: 38\n",
            "Enter New Customer's Salary: 33000\n",
            "Enter New Customer's Expenses: 17000\n",
            "Enter New Customer's Savings : 16000\n",
            "[1]\n",
            "customer will buy\n"
          ]
        }
      ]
    },
    {
      "cell_type": "markdown",
      "source": [
        "Prediction for all Test Data"
      ],
      "metadata": {
        "id": "oHtDfHHsFJuY"
      }
    },
    {
      "cell_type": "code",
      "source": [
        "y_pred = model.predict(X_test)"
      ],
      "metadata": {
        "id": "zkSwXbCnFOTi"
      },
      "execution_count": 15,
      "outputs": []
    },
    {
      "cell_type": "code",
      "source": [
        "from sklearn.metrics import accuracy_score\n",
        "#cm = confusion matrix\n",
        "print(\"Accuracy of the Model: {0}%\" .format(accuracy_score(y_test, y_pred)*100))"
      ],
      "metadata": {
        "colab": {
          "base_uri": "https://localhost:8080/"
        },
        "id": "O5aOTwy-FX87",
        "outputId": "e45a6867-1989-4969-ad1f-282b7d4536ae"
      },
      "execution_count": 16,
      "outputs": [
        {
          "output_type": "stream",
          "name": "stdout",
          "text": [
            "Accuracy of the Model: 100.0%\n"
          ]
        }
      ]
    }
  ]
}